{
 "cells": [
  {
   "cell_type": "code",
   "execution_count": 1,
   "source": [
    "import torch\n",
    "from interactive import Generator\n",
    "import sentencepiece as spm\n",
    "import fileinput"
   ],
   "outputs": [],
   "metadata": {}
  },
  {
   "cell_type": "code",
   "execution_count": 2,
   "source": [
    "### Create SentencePiecer ###\n",
    "m=spm.SentencePieceProcessor(model_file='/home/bhaddow/experiments/e2e-slt-noise/data/baseline-mt/en-fr/spm_unigram8000_en.model')"
   ],
   "outputs": [],
   "metadata": {}
  },
  {
   "cell_type": "code",
   "execution_count": 3,
   "source": [
    "### Test Inputs ###\n",
    "INPUT='Hello my friends welcome to your new home'.split()\n",
    "INPUT = 'Hello my friends. Welcome to your new home!'.split()\n",
    "LENGTH=len(INPUT)"
   ],
   "outputs": [],
   "metadata": {}
  },
  {
   "cell_type": "code",
   "execution_count": 4,
   "source": [
    "### Input from file ###\n",
    "def buffered_read(input, buffer_size):\n",
    "        buffer = []\n",
    "        #here the input for interactive is read, the fileinput is a python class. The input method takes a file or if passed '-' will read from sys.stin\n",
    "        with fileinput.input(files=[input], openhook=fileinput.hook_encoded(\"utf-8\")) as h: \n",
    "            for src_str in h:\n",
    "                buffer.append(src_str.strip())\n",
    "                if len(buffer) >= buffer_size:\n",
    "                    yield buffer\n",
    "                    buffer = []\n",
    "\n",
    "        if len(buffer) > 0:\n",
    "            yield buffer"
   ],
   "outputs": [],
   "metadata": {}
  },
  {
   "cell_type": "code",
   "execution_count": 5,
   "source": [
    "def RANDOM_POLICY():\n",
    "    return 1 if torch.rand(1).item()>0.5 else 0\n",
    "\n",
    "def UPDATE_COUNTER(COUNTER):\n",
    "    if COUNTER==0:\n",
    "        return COUNTER+1,\"START\"\n",
    "    else:\n",
    "        # GET ACTION\n",
    "        ACTION=RANDOM_POLICY()  \n",
    "        if ACTION==0:\n",
    "            return COUNTER+1,\"R\"\n",
    "        else:\n",
    "            return COUNTER,\"W\"\n",
    "\n",
    "def GET_STREAM(COUNTER, INPUT, LENGTH):\n",
    "    if COUNTER==LENGTH: # Need to ensure that I am translating everything after the END\n",
    "        return \" \".join(INPUT),\"END\",COUNTER\n",
    "    else:\n",
    "        COUNTER,ACTION=UPDATE_COUNTER(COUNTER)\n",
    "        return \" \".join(INPUT[:COUNTER]),ACTION,COUNTER\n",
    "\n",
    "def ACT(COUNTER, INPUT, LENGTH):\n",
    "    STREAM,ACTION,COUNTER=GET_STREAM(COUNTER, INPUT, LENGTH)\n",
    "    # Print ACTION\n",
    "    if ACTION==\"END\":\n",
    "        print(\"...END...\")\n",
    "    elif ACTION==\"START\":\n",
    "        print(\"...START...\")\n",
    "    elif ACTION==\"R\":\n",
    "        print(\"...READ...\")\n",
    "    else:\n",
    "        print(\"...WRITE...\")\n",
    "    # Display NMT input\n",
    "    print(STREAM)\n",
    "    # Covert to sentence piece\n",
    "    STREAM=m.encode(STREAM, out_type=str)\n",
    "    return \" \".join(STREAM),COUNTER,ACTION"
   ],
   "outputs": [],
   "metadata": {}
  },
  {
   "cell_type": "code",
   "execution_count": 6,
   "source": [
    "# Perform translations\n",
    "from interactive import Generator\n",
    "NMT = Generator(\"/home/bhaddow/experiments/e2e-slt-noise/data/baseline-mt/en-fr/data-bin\", \"/home/bhaddow/experiments/e2e-slt-noise/expts/baseline-mt/en-fr/checkpoints/checkpoint_best.pt\")\n",
    "#STATEMENT1 = NMT.generate(\" \".join(m.encode('Start', out_type=str)))\n",
    "#STATEMENT2 = NMT.generate(\" \".join(m.encode('New line', out_type=str)))\n",
    "#STATEMENT3 = NMT.generate(\" \".join(m.encode('Done', out_type=str)))\n",
    "STATEMENT1 = \"STARTING TRANSLATION\"\n",
    "STATEMENT2 = \"COMMENCING NEW LINE\"\n",
    "STATEMENT3 = \"FINISHED\"\n",
    "\n",
    "with open('target_stream.txt', 'a') as f:\n",
    "    f.write(STATEMENT1 + '...' + '\\n')\n",
    "\n",
    "i=0\n",
    "\n",
    "for INPUT in buffered_read('source.txt', 0):\n",
    "    COUNTER=0\n",
    "    ACTION=None\n",
    "    INPUT=INPUT[0].split()\n",
    "    LENGTH=len(INPUT)\n",
    "    \n",
    "    if i:\n",
    "        with open('target_stream.txt', 'a') as ts:\n",
    "            ts.write(STATEMENT2 + '...' + '\\n')\n",
    "        \n",
    "    else:\n",
    "        i=1\n",
    "\n",
    "    while ACTION!=\"END\":\n",
    "        STREAM,COUNTER,ACTION=ACT(COUNTER,INPUT,LENGTH)\n",
    "        # Either Read or Write\n",
    "        if ACTION==\"R\" or ACTION==\"START\":\n",
    "            continue\n",
    "        else:\n",
    "            # Perform translation via NMT model\n",
    "            #print(f\"the stream: {STREAM}\")\n",
    "            OUTPUT = NMT.generate(STREAM)\n",
    "            # Display the output\n",
    "            print(OUTPUT)\n",
    "            # Put the stream into a file\n",
    "            with open('target_stream.txt', 'a') as ts, open('target.txt', 'a') as t:\n",
    "                if ACTION==\"W\":\n",
    "                    ts.write(OUTPUT + '...' + '\\n')\n",
    "                elif ACTION==\"END\":\n",
    "                    ts.write(OUTPUT + '\\n')\n",
    "                    t.write(OUTPUT + '\\n')\n",
    "\n",
    "    \n",
    "with open('target_stream.txt', 'a') as ts:\n",
    "    ts.write(STATEMENT3 + '\\n')\n",
    "\n",
    "\n",
    "\n"
   ],
   "outputs": [
    {
     "output_type": "stream",
     "name": "stdout",
     "text": [
      "<class 'fairseq.models.transformer.transformer_decoder.TransformerDecoderBase'>\n",
      "...START...\n",
      "Hello\n",
      "...WRITE...\n",
      "Hello\n",
      "the tokens: tensor([[2, 1, 1, 1, 1, 1, 1, 1, 1, 1, 1, 1, 1, 1, 1, 1, 1, 1, 1, 1, 1, 1, 1, 1,\n",
      "         1, 1, 1, 1, 1, 1, 1, 1, 1, 1, 1, 1, 1, 1, 1, 1, 1, 1, 1, 1, 1, 1, 1, 1,\n",
      "         1, 1, 1, 1, 1, 1, 1, 1, 1, 1, 1, 1, 1, 1, 1, 1, 1, 1, 1, 1, 1, 1, 1, 1,\n",
      "         1, 1, 1, 1, 1, 1, 1, 1, 1, 1, 1, 1, 1, 1, 1, 1, 1, 1, 1, 1, 1, 1, 1, 1,\n",
      "         1, 1, 1, 1, 1, 1, 1, 1, 1, 1, 1, 1, 1, 1, 1, 1, 1, 1, 1, 1, 1, 1, 1, 1,\n",
      "         1, 1, 1, 1, 1, 1, 1, 1, 1, 1, 1, 1, 1, 1, 1, 1, 1, 1, 1, 1, 1, 1, 1, 1,\n",
      "         1, 1, 1, 1, 1, 1, 1, 1, 1, 1, 1, 1, 1, 1, 1, 1, 1, 1, 1, 1, 1, 1, 1, 1,\n",
      "         1, 1, 1, 1, 1, 1, 1, 1, 1, 1, 1, 1, 1, 1, 1, 1, 1, 1, 1, 1, 1, 1, 1, 1,\n",
      "         1, 1, 1, 1, 1, 1, 1, 1, 1, 1]], device='cuda:0')\n",
      "the tokens: tensor([[   2, 4514,    1,    1,    1,    1,    1,    1,    1,    1,    1,    1,\n",
      "            1,    1,    1,    1,    1,    1,    1,    1,    1,    1,    1,    1,\n",
      "            1,    1,    1,    1,    1,    1,    1,    1,    1,    1,    1,    1,\n",
      "            1,    1,    1,    1,    1,    1,    1,    1,    1,    1,    1,    1,\n",
      "            1,    1,    1,    1,    1,    1,    1,    1,    1,    1,    1,    1,\n",
      "            1,    1,    1,    1,    1,    1,    1,    1,    1,    1,    1,    1,\n",
      "            1,    1,    1,    1,    1,    1,    1,    1,    1,    1,    1,    1,\n",
      "            1,    1,    1,    1,    1,    1,    1,    1,    1,    1,    1,    1,\n",
      "            1,    1,    1,    1,    1,    1,    1,    1,    1,    1,    1,    1,\n",
      "            1,    1,    1,    1,    1,    1,    1,    1,    1,    1,    1,    1,\n",
      "            1,    1,    1,    1,    1,    1,    1,    1,    1,    1,    1,    1,\n",
      "            1,    1,    1,    1,    1,    1,    1,    1,    1,    1,    1,    1,\n",
      "            1,    1,    1,    1,    1,    1,    1,    1,    1,    1,    1,    1,\n",
      "            1,    1,    1,    1,    1,    1,    1,    1,    1,    1,    1,    1,\n",
      "            1,    1,    1,    1,    1,    1,    1,    1,    1,    1,    1,    1,\n",
      "            1,    1,    1,    1,    1,    1,    1,    1,    1,    1,    1,    1,\n",
      "            1,    1,    1,    1,    1,    1,    1,    1,    1,    1]],\n",
      "       device='cuda:0')\n",
      "<fairseq.data.dictionary.Dictionary object at 0x7f6b8caaaf70>\n"
     ]
    },
    {
     "output_type": "error",
     "ename": "NotImplementedError",
     "evalue": "",
     "traceback": [
      "\u001b[0;31m---------------------------------------------------------------------------\u001b[0m",
      "\u001b[0;31mNotImplementedError\u001b[0m                       Traceback (most recent call last)",
      "\u001b[0;32m/tmp/ipykernel_2740416/1998977504.py\u001b[0m in \u001b[0;36m<module>\u001b[0;34m\u001b[0m\n\u001b[1;32m     35\u001b[0m             \u001b[0;31m# Perform translation via NMT model\u001b[0m\u001b[0;34m\u001b[0m\u001b[0;34m\u001b[0m\u001b[0;34m\u001b[0m\u001b[0m\n\u001b[1;32m     36\u001b[0m             \u001b[0;31m#print(f\"the stream: {STREAM}\")\u001b[0m\u001b[0;34m\u001b[0m\u001b[0;34m\u001b[0m\u001b[0;34m\u001b[0m\u001b[0m\n\u001b[0;32m---> 37\u001b[0;31m             \u001b[0mOUTPUT\u001b[0m \u001b[0;34m=\u001b[0m \u001b[0mNMT\u001b[0m\u001b[0;34m.\u001b[0m\u001b[0mgenerate\u001b[0m\u001b[0;34m(\u001b[0m\u001b[0mSTREAM\u001b[0m\u001b[0;34m)\u001b[0m\u001b[0;34m\u001b[0m\u001b[0;34m\u001b[0m\u001b[0m\n\u001b[0m\u001b[1;32m     38\u001b[0m             \u001b[0;31m# Display the output\u001b[0m\u001b[0;34m\u001b[0m\u001b[0;34m\u001b[0m\u001b[0;34m\u001b[0m\u001b[0m\n\u001b[1;32m     39\u001b[0m             \u001b[0mprint\u001b[0m\u001b[0;34m(\u001b[0m\u001b[0mOUTPUT\u001b[0m\u001b[0;34m)\u001b[0m\u001b[0;34m\u001b[0m\u001b[0;34m\u001b[0m\u001b[0m\n",
      "\u001b[0;32m~/RL-SLT/fairseq/fairseq/RL/interactive.py\u001b[0m in \u001b[0;36mgenerate\u001b[0;34m(self, input, string_input)\u001b[0m\n\u001b[1;32m    145\u001b[0m             \u001b[0;32mfor\u001b[0m \u001b[0mid\u001b[0m\u001b[0;34m,\u001b[0m \u001b[0msrc_tokens\u001b[0m\u001b[0;34m,\u001b[0m \u001b[0mhypos\u001b[0m \u001b[0;32min\u001b[0m \u001b[0msorted\u001b[0m\u001b[0;34m(\u001b[0m\u001b[0mresults\u001b[0m\u001b[0;34m,\u001b[0m \u001b[0mkey\u001b[0m\u001b[0;34m=\u001b[0m\u001b[0;32mlambda\u001b[0m \u001b[0mx\u001b[0m\u001b[0;34m:\u001b[0m \u001b[0mx\u001b[0m\u001b[0;34m[\u001b[0m\u001b[0;36m0\u001b[0m\u001b[0;34m]\u001b[0m\u001b[0;34m)\u001b[0m\u001b[0;34m:\u001b[0m\u001b[0;34m\u001b[0m\u001b[0;34m\u001b[0m\u001b[0m\n\u001b[1;32m    146\u001b[0m                     \u001b[0;32mif\u001b[0m \u001b[0mself\u001b[0m\u001b[0;34m.\u001b[0m\u001b[0msrc_dict\u001b[0m \u001b[0;32mis\u001b[0m \u001b[0;32mnot\u001b[0m \u001b[0;32mNone\u001b[0m\u001b[0;34m:\u001b[0m\u001b[0;34m\u001b[0m\u001b[0;34m\u001b[0m\u001b[0m\n\u001b[0;32m--> 147\u001b[0;31m                         \u001b[0msrc_str\u001b[0m \u001b[0;34m=\u001b[0m \u001b[0mself\u001b[0m\u001b[0;34m.\u001b[0m\u001b[0msrc_dict\u001b[0m\u001b[0;34m.\u001b[0m\u001b[0mstring\u001b[0m\u001b[0;34m(\u001b[0m\u001b[0msrc_tokens\u001b[0m\u001b[0;34m,\u001b[0m \u001b[0mself\u001b[0m\u001b[0;34m.\u001b[0m\u001b[0margs\u001b[0m\u001b[0;34m.\u001b[0m\u001b[0mremove_bpe\u001b[0m\u001b[0;34m)\u001b[0m\u001b[0;34m\u001b[0m\u001b[0;34m\u001b[0m\u001b[0m\n\u001b[0m\u001b[1;32m    148\u001b[0m \u001b[0;34m\u001b[0m\u001b[0m\n\u001b[1;32m    149\u001b[0m             \u001b[0;32mfor\u001b[0m \u001b[0mhypo\u001b[0m \u001b[0;32min\u001b[0m \u001b[0mhypos\u001b[0m\u001b[0;34m[\u001b[0m\u001b[0;34m:\u001b[0m\u001b[0mmin\u001b[0m\u001b[0;34m(\u001b[0m\u001b[0mlen\u001b[0m\u001b[0;34m(\u001b[0m\u001b[0mhypos\u001b[0m\u001b[0;34m)\u001b[0m\u001b[0;34m,\u001b[0m \u001b[0mself\u001b[0m\u001b[0;34m.\u001b[0m\u001b[0margs\u001b[0m\u001b[0;34m.\u001b[0m\u001b[0mnbest\u001b[0m\u001b[0;34m)\u001b[0m\u001b[0;34m]\u001b[0m\u001b[0;34m:\u001b[0m\u001b[0;34m\u001b[0m\u001b[0;34m\u001b[0m\u001b[0m\n",
      "\u001b[0;32m~/RL-SLT/fairseq/fairseq/data/dictionary.py\u001b[0m in \u001b[0;36mstring\u001b[0;34m(self, tensor, bpe_symbol, escape_unk, extra_symbols_to_ignore, unk_string, include_eos, separator)\u001b[0m\n\u001b[1;32m    115\u001b[0m \u001b[0;34m\u001b[0m\u001b[0m\n\u001b[1;32m    116\u001b[0m         \u001b[0mprint\u001b[0m\u001b[0;34m(\u001b[0m\u001b[0mself\u001b[0m\u001b[0;34m)\u001b[0m\u001b[0;34m\u001b[0m\u001b[0;34m\u001b[0m\u001b[0m\n\u001b[0;32m--> 117\u001b[0;31m         \u001b[0;32mraise\u001b[0m \u001b[0mNotImplementedError\u001b[0m\u001b[0;34m(\u001b[0m\u001b[0;34m)\u001b[0m\u001b[0;34m\u001b[0m\u001b[0;34m\u001b[0m\u001b[0m\n\u001b[0m\u001b[1;32m    118\u001b[0m \u001b[0;34m\u001b[0m\u001b[0m\n\u001b[1;32m    119\u001b[0m         \u001b[0;32mfor\u001b[0m \u001b[0mi\u001b[0m \u001b[0;32min\u001b[0m \u001b[0mtensor\u001b[0m\u001b[0;34m:\u001b[0m\u001b[0;34m\u001b[0m\u001b[0;34m\u001b[0m\u001b[0m\n",
      "\u001b[0;31mNotImplementedError\u001b[0m: "
     ]
    }
   ],
   "metadata": {}
  }
 ],
 "metadata": {
  "orig_nbformat": 4,
  "language_info": {
   "name": "python",
   "version": "3.8.10",
   "mimetype": "text/x-python",
   "codemirror_mode": {
    "name": "ipython",
    "version": 3
   },
   "pygments_lexer": "ipython3",
   "nbconvert_exporter": "python",
   "file_extension": ".py"
  },
  "kernelspec": {
   "name": "python3",
   "display_name": "Python 3.8.10 64-bit ('fairseq-venv': venv)"
  },
  "interpreter": {
   "hash": "e01f0759c4e6be653faa79374e130e314d97e71e11abadefdee22c91deffe975"
  }
 },
 "nbformat": 4,
 "nbformat_minor": 2
}